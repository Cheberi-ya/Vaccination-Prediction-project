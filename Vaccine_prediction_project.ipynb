{
 "cells": [
  {
   "cell_type": "markdown",
   "metadata": {
    "id": "iFxb-J-qB4JI"
   },
   "source": [
    "# **VACCINE PREDICTION PROJECT**\n",
    "## BUSINESS UNDERSTANDING\n",
    "### OVERVIEW\n",
    "H1N1, commonly referred to as swine flu, is a subtype of the influenza A virus that can infect humans, birds, and pigs. The virus gained widespread attention in 2009 when a new strain emerged, leading to the first influenza pandemic in over four decades. This novel H1N1 strain was particularly concerning due to its rapid human-to-human transmission and its ability to infect individuals across a wide age range, including those without preexisting conditions.\n",
    "\n",
    "During the pandemic, the World Health Organization (WHO) declared H1N1 a global health emergency. Vaccination efforts were a critical component of the public health response, aimed at mitigating severe cases, hospitalizations, and fatalities. Despite these efforts, vaccine uptake varied significantly across populations due to a combination of logistical challenges, misinformation, and vaccine hesitancy.\n",
    "\n",
    "Although the pandemic officially ended in August 2010, H1N1 has since become a seasonal flu virus, contributing to annual influenza epidemics. Understanding the factors influencing vaccine acceptance remains a priority for public health authorities to improve vaccination rates and enhance preparedness for future outbreaks\n",
    "### PROBLEM STATEMENT\n",
    "Vaccination rates are lower than desired, leading to preventable disease outbreaks.\n",
    "### OBJECTIVES\n",
    "- To analyze which demographic aspects (e.g.age, education) most influence vaccine uptake.\n",
    "- To evaluate the attitudinal features affecting vaccine use.\n",
    "- To build a machine learning model to predict whether an individual will take a vaccine based on demographic and attitudinal factors.  \n",
    "\n",
    "### SUCCESS CRITERIA\n",
    "- Deliver a report highlighting the top 10 predictors.\n",
    "- AUC at least 0.80 to confirm strong performance on the positive class.\n",
    "- have recall at >80% to capture most vaccine hesitant individuals."
   ]
  },
  {
   "cell_type": "markdown",
   "metadata": {
    "id": "xBBbPMKGLnPc"
   },
   "source": [
    "## DATA UNDERSTANDING\n",
    "### OVERVIEW\n",
    "The data was obtained from  https://www.drivendata.org/competitions/66/flu-shot-learning/page/210/\n",
    "Originally provided courtesy of the United States National Center for Health Statistics.\n",
    "U.S. Department of Health and Human Services (DHHS). National Center for Health Statistics. The National 2009 H1N1 Flu Survey. Hyattsville, MD: Centers for Disease Control and Prevention, 2012.\n",
    "\n",
    "The data represents statistics on vaccine uptakes of h1n1 vaccine(swine flu) and the seasonal flu vaccine in various regions in the US.\n",
    "\n",
    "Each record is for a respondent for the attitudinal and demographic features and whether the have had their seasonal and h1n1 vaccination\n",
    "\n",
    "The data came in 2 CSV files, one for the independent variables(X) and the other for the target variable.\n",
    "We will load the two datasets and merge them into one before we begin work on them."
   ]
  },
  {
   "cell_type": "code",
   "execution_count": 1,
   "metadata": {
    "colab": {
     "base_uri": "https://localhost:8080/",
     "height": 589
    },
    "id": "N6r-DYSmig9z",
    "outputId": "a6c4b8b0-f624-4453-f7f5-22f1978e3e2f"
   },
   "outputs": [
    {
     "data": {
      "text/html": [
       "<div>\n",
       "<style scoped>\n",
       "    .dataframe tbody tr th:only-of-type {\n",
       "        vertical-align: middle;\n",
       "    }\n",
       "\n",
       "    .dataframe tbody tr th {\n",
       "        vertical-align: top;\n",
       "    }\n",
       "\n",
       "    .dataframe thead th {\n",
       "        text-align: right;\n",
       "    }\n",
       "</style>\n",
       "<table border=\"1\" class=\"dataframe\">\n",
       "  <thead>\n",
       "    <tr style=\"text-align: right;\">\n",
       "      <th></th>\n",
       "      <th>h1n1_concern</th>\n",
       "      <th>h1n1_knowledge</th>\n",
       "      <th>behavioral_antiviral_meds</th>\n",
       "      <th>behavioral_avoidance</th>\n",
       "      <th>behavioral_face_mask</th>\n",
       "      <th>behavioral_wash_hands</th>\n",
       "      <th>behavioral_large_gatherings</th>\n",
       "      <th>behavioral_outside_home</th>\n",
       "      <th>behavioral_touch_face</th>\n",
       "      <th>doctor_recc_h1n1</th>\n",
       "      <th>...</th>\n",
       "      <th>rent_or_own</th>\n",
       "      <th>employment_status</th>\n",
       "      <th>hhs_geo_region</th>\n",
       "      <th>census_msa</th>\n",
       "      <th>household_adults</th>\n",
       "      <th>household_children</th>\n",
       "      <th>employment_industry</th>\n",
       "      <th>employment_occupation</th>\n",
       "      <th>h1n1_vaccine</th>\n",
       "      <th>seasonal_vaccine</th>\n",
       "    </tr>\n",
       "    <tr>\n",
       "      <th>respondent_id</th>\n",
       "      <th></th>\n",
       "      <th></th>\n",
       "      <th></th>\n",
       "      <th></th>\n",
       "      <th></th>\n",
       "      <th></th>\n",
       "      <th></th>\n",
       "      <th></th>\n",
       "      <th></th>\n",
       "      <th></th>\n",
       "      <th></th>\n",
       "      <th></th>\n",
       "      <th></th>\n",
       "      <th></th>\n",
       "      <th></th>\n",
       "      <th></th>\n",
       "      <th></th>\n",
       "      <th></th>\n",
       "      <th></th>\n",
       "      <th></th>\n",
       "      <th></th>\n",
       "    </tr>\n",
       "  </thead>\n",
       "  <tbody>\n",
       "    <tr>\n",
       "      <th>0</th>\n",
       "      <td>1.0</td>\n",
       "      <td>0.0</td>\n",
       "      <td>0.0</td>\n",
       "      <td>0.0</td>\n",
       "      <td>0.0</td>\n",
       "      <td>0.0</td>\n",
       "      <td>0.0</td>\n",
       "      <td>1.0</td>\n",
       "      <td>1.0</td>\n",
       "      <td>0.0</td>\n",
       "      <td>...</td>\n",
       "      <td>Own</td>\n",
       "      <td>Not in Labor Force</td>\n",
       "      <td>oxchjgsf</td>\n",
       "      <td>Non-MSA</td>\n",
       "      <td>0.0</td>\n",
       "      <td>0.0</td>\n",
       "      <td>NaN</td>\n",
       "      <td>NaN</td>\n",
       "      <td>0</td>\n",
       "      <td>0</td>\n",
       "    </tr>\n",
       "    <tr>\n",
       "      <th>1</th>\n",
       "      <td>3.0</td>\n",
       "      <td>2.0</td>\n",
       "      <td>0.0</td>\n",
       "      <td>1.0</td>\n",
       "      <td>0.0</td>\n",
       "      <td>1.0</td>\n",
       "      <td>0.0</td>\n",
       "      <td>1.0</td>\n",
       "      <td>1.0</td>\n",
       "      <td>0.0</td>\n",
       "      <td>...</td>\n",
       "      <td>Rent</td>\n",
       "      <td>Employed</td>\n",
       "      <td>bhuqouqj</td>\n",
       "      <td>MSA, Not Principle  City</td>\n",
       "      <td>0.0</td>\n",
       "      <td>0.0</td>\n",
       "      <td>pxcmvdjn</td>\n",
       "      <td>xgwztkwe</td>\n",
       "      <td>0</td>\n",
       "      <td>1</td>\n",
       "    </tr>\n",
       "    <tr>\n",
       "      <th>2</th>\n",
       "      <td>1.0</td>\n",
       "      <td>1.0</td>\n",
       "      <td>0.0</td>\n",
       "      <td>1.0</td>\n",
       "      <td>0.0</td>\n",
       "      <td>0.0</td>\n",
       "      <td>0.0</td>\n",
       "      <td>0.0</td>\n",
       "      <td>0.0</td>\n",
       "      <td>NaN</td>\n",
       "      <td>...</td>\n",
       "      <td>Own</td>\n",
       "      <td>Employed</td>\n",
       "      <td>qufhixun</td>\n",
       "      <td>MSA, Not Principle  City</td>\n",
       "      <td>2.0</td>\n",
       "      <td>0.0</td>\n",
       "      <td>rucpziij</td>\n",
       "      <td>xtkaffoo</td>\n",
       "      <td>0</td>\n",
       "      <td>0</td>\n",
       "    </tr>\n",
       "    <tr>\n",
       "      <th>3</th>\n",
       "      <td>1.0</td>\n",
       "      <td>1.0</td>\n",
       "      <td>0.0</td>\n",
       "      <td>1.0</td>\n",
       "      <td>0.0</td>\n",
       "      <td>1.0</td>\n",
       "      <td>1.0</td>\n",
       "      <td>0.0</td>\n",
       "      <td>0.0</td>\n",
       "      <td>0.0</td>\n",
       "      <td>...</td>\n",
       "      <td>Rent</td>\n",
       "      <td>Not in Labor Force</td>\n",
       "      <td>lrircsnp</td>\n",
       "      <td>MSA, Principle City</td>\n",
       "      <td>0.0</td>\n",
       "      <td>0.0</td>\n",
       "      <td>NaN</td>\n",
       "      <td>NaN</td>\n",
       "      <td>0</td>\n",
       "      <td>1</td>\n",
       "    </tr>\n",
       "    <tr>\n",
       "      <th>4</th>\n",
       "      <td>2.0</td>\n",
       "      <td>1.0</td>\n",
       "      <td>0.0</td>\n",
       "      <td>1.0</td>\n",
       "      <td>0.0</td>\n",
       "      <td>1.0</td>\n",
       "      <td>1.0</td>\n",
       "      <td>0.0</td>\n",
       "      <td>1.0</td>\n",
       "      <td>0.0</td>\n",
       "      <td>...</td>\n",
       "      <td>Own</td>\n",
       "      <td>Employed</td>\n",
       "      <td>qufhixun</td>\n",
       "      <td>MSA, Not Principle  City</td>\n",
       "      <td>1.0</td>\n",
       "      <td>0.0</td>\n",
       "      <td>wxleyezf</td>\n",
       "      <td>emcorrxb</td>\n",
       "      <td>0</td>\n",
       "      <td>0</td>\n",
       "    </tr>\n",
       "    <tr>\n",
       "      <th>5</th>\n",
       "      <td>3.0</td>\n",
       "      <td>1.0</td>\n",
       "      <td>0.0</td>\n",
       "      <td>1.0</td>\n",
       "      <td>0.0</td>\n",
       "      <td>1.0</td>\n",
       "      <td>0.0</td>\n",
       "      <td>0.0</td>\n",
       "      <td>1.0</td>\n",
       "      <td>0.0</td>\n",
       "      <td>...</td>\n",
       "      <td>Own</td>\n",
       "      <td>Employed</td>\n",
       "      <td>atmpeygn</td>\n",
       "      <td>MSA, Principle City</td>\n",
       "      <td>2.0</td>\n",
       "      <td>3.0</td>\n",
       "      <td>saaquncn</td>\n",
       "      <td>vlluhbov</td>\n",
       "      <td>0</td>\n",
       "      <td>0</td>\n",
       "    </tr>\n",
       "    <tr>\n",
       "      <th>6</th>\n",
       "      <td>0.0</td>\n",
       "      <td>0.0</td>\n",
       "      <td>0.0</td>\n",
       "      <td>0.0</td>\n",
       "      <td>0.0</td>\n",
       "      <td>0.0</td>\n",
       "      <td>0.0</td>\n",
       "      <td>0.0</td>\n",
       "      <td>0.0</td>\n",
       "      <td>0.0</td>\n",
       "      <td>...</td>\n",
       "      <td>Own</td>\n",
       "      <td>Employed</td>\n",
       "      <td>qufhixun</td>\n",
       "      <td>MSA, Not Principle  City</td>\n",
       "      <td>0.0</td>\n",
       "      <td>0.0</td>\n",
       "      <td>xicduogh</td>\n",
       "      <td>xtkaffoo</td>\n",
       "      <td>0</td>\n",
       "      <td>0</td>\n",
       "    </tr>\n",
       "    <tr>\n",
       "      <th>7</th>\n",
       "      <td>1.0</td>\n",
       "      <td>0.0</td>\n",
       "      <td>0.0</td>\n",
       "      <td>1.0</td>\n",
       "      <td>0.0</td>\n",
       "      <td>1.0</td>\n",
       "      <td>0.0</td>\n",
       "      <td>0.0</td>\n",
       "      <td>1.0</td>\n",
       "      <td>1.0</td>\n",
       "      <td>...</td>\n",
       "      <td>Own</td>\n",
       "      <td>Employed</td>\n",
       "      <td>bhuqouqj</td>\n",
       "      <td>Non-MSA</td>\n",
       "      <td>2.0</td>\n",
       "      <td>0.0</td>\n",
       "      <td>pxcmvdjn</td>\n",
       "      <td>xqwwgdyp</td>\n",
       "      <td>1</td>\n",
       "      <td>1</td>\n",
       "    </tr>\n",
       "  </tbody>\n",
       "</table>\n",
       "<p>8 rows × 37 columns</p>\n",
       "</div>"
      ],
      "text/plain": [
       "               h1n1_concern  h1n1_knowledge  behavioral_antiviral_meds  \\\n",
       "respondent_id                                                            \n",
       "0                       1.0             0.0                        0.0   \n",
       "1                       3.0             2.0                        0.0   \n",
       "2                       1.0             1.0                        0.0   \n",
       "3                       1.0             1.0                        0.0   \n",
       "4                       2.0             1.0                        0.0   \n",
       "5                       3.0             1.0                        0.0   \n",
       "6                       0.0             0.0                        0.0   \n",
       "7                       1.0             0.0                        0.0   \n",
       "\n",
       "               behavioral_avoidance  behavioral_face_mask  \\\n",
       "respondent_id                                               \n",
       "0                               0.0                   0.0   \n",
       "1                               1.0                   0.0   \n",
       "2                               1.0                   0.0   \n",
       "3                               1.0                   0.0   \n",
       "4                               1.0                   0.0   \n",
       "5                               1.0                   0.0   \n",
       "6                               0.0                   0.0   \n",
       "7                               1.0                   0.0   \n",
       "\n",
       "               behavioral_wash_hands  behavioral_large_gatherings  \\\n",
       "respondent_id                                                       \n",
       "0                                0.0                          0.0   \n",
       "1                                1.0                          0.0   \n",
       "2                                0.0                          0.0   \n",
       "3                                1.0                          1.0   \n",
       "4                                1.0                          1.0   \n",
       "5                                1.0                          0.0   \n",
       "6                                0.0                          0.0   \n",
       "7                                1.0                          0.0   \n",
       "\n",
       "               behavioral_outside_home  behavioral_touch_face  \\\n",
       "respondent_id                                                   \n",
       "0                                  1.0                    1.0   \n",
       "1                                  1.0                    1.0   \n",
       "2                                  0.0                    0.0   \n",
       "3                                  0.0                    0.0   \n",
       "4                                  0.0                    1.0   \n",
       "5                                  0.0                    1.0   \n",
       "6                                  0.0                    0.0   \n",
       "7                                  0.0                    1.0   \n",
       "\n",
       "               doctor_recc_h1n1  ...  rent_or_own   employment_status  \\\n",
       "respondent_id                    ...                                    \n",
       "0                           0.0  ...          Own  Not in Labor Force   \n",
       "1                           0.0  ...         Rent            Employed   \n",
       "2                           NaN  ...          Own            Employed   \n",
       "3                           0.0  ...         Rent  Not in Labor Force   \n",
       "4                           0.0  ...          Own            Employed   \n",
       "5                           0.0  ...          Own            Employed   \n",
       "6                           0.0  ...          Own            Employed   \n",
       "7                           1.0  ...          Own            Employed   \n",
       "\n",
       "               hhs_geo_region                census_msa  household_adults  \\\n",
       "respondent_id                                                               \n",
       "0                    oxchjgsf                   Non-MSA               0.0   \n",
       "1                    bhuqouqj  MSA, Not Principle  City               0.0   \n",
       "2                    qufhixun  MSA, Not Principle  City               2.0   \n",
       "3                    lrircsnp       MSA, Principle City               0.0   \n",
       "4                    qufhixun  MSA, Not Principle  City               1.0   \n",
       "5                    atmpeygn       MSA, Principle City               2.0   \n",
       "6                    qufhixun  MSA, Not Principle  City               0.0   \n",
       "7                    bhuqouqj                   Non-MSA               2.0   \n",
       "\n",
       "               household_children  employment_industry  employment_occupation  \\\n",
       "respondent_id                                                                   \n",
       "0                             0.0                  NaN                    NaN   \n",
       "1                             0.0             pxcmvdjn               xgwztkwe   \n",
       "2                             0.0             rucpziij               xtkaffoo   \n",
       "3                             0.0                  NaN                    NaN   \n",
       "4                             0.0             wxleyezf               emcorrxb   \n",
       "5                             3.0             saaquncn               vlluhbov   \n",
       "6                             0.0             xicduogh               xtkaffoo   \n",
       "7                             0.0             pxcmvdjn               xqwwgdyp   \n",
       "\n",
       "               h1n1_vaccine  seasonal_vaccine  \n",
       "respondent_id                                  \n",
       "0                         0                 0  \n",
       "1                         0                 1  \n",
       "2                         0                 0  \n",
       "3                         0                 1  \n",
       "4                         0                 0  \n",
       "5                         0                 0  \n",
       "6                         0                 0  \n",
       "7                         1                 1  \n",
       "\n",
       "[8 rows x 37 columns]"
      ]
     },
     "execution_count": 1,
     "metadata": {},
     "output_type": "execute_result"
    }
   ],
   "source": [
    "# loading the data\n",
    "import pandas as pd\n",
    "df = pd.read_csv('training_set_features.csv')\n",
    "df2 = pd.read_csv('training_set_labels.csv')\n",
    "# reseting the index for both dataframes\n",
    "\"\"\" The dataframe index is the same for both dataframes\"\"\"\n",
    "df.set_index('respondent_id', inplace=True)\n",
    "df2.set_index('respondent_id', inplace=True)\n",
    "# merging the two dataframes to one\n",
    "df = df.join(df2)\n",
    "# previewing the dataframe, first 8 rows\n",
    "df.head(8)"
   ]
  },
  {
   "cell_type": "markdown",
   "metadata": {
    "id": "NvoG4GVxLft6"
   },
   "source": [
    "The data has been loaded into a dataframe named df. We can go ahead to look at the shape of the dataframe"
   ]
  },
  {
   "cell_type": "code",
   "execution_count": 2,
   "metadata": {
    "colab": {
     "base_uri": "https://localhost:8080/"
    },
    "id": "_0l5nwFJuI2h",
    "outputId": "dee1bdd9-6c07-4ac3-92d6-f814cd672b8d"
   },
   "outputs": [
    {
     "data": {
      "text/plain": [
       "(26707, 37)"
      ]
     },
     "execution_count": 2,
     "metadata": {},
     "output_type": "execute_result"
    }
   ],
   "source": [
    "# checking the shape of the dataframe\n",
    "df.shape"
   ]
  },
  {
   "cell_type": "markdown",
   "metadata": {
    "id": "yCPLNKwiL0D7"
   },
   "source": [
    "The dataframe has 26,707 rows and 37 columns. The rows represent each individual record. We can look at the column names to be sure of what ech represent"
   ]
  },
  {
   "cell_type": "code",
   "execution_count": 3,
   "metadata": {
    "colab": {
     "base_uri": "https://localhost:8080/"
    },
    "id": "knOSdUh6MO7k",
    "outputId": "f10e7cd6-b189-4864-f4ee-41d18c7df96d"
   },
   "outputs": [
    {
     "data": {
      "text/plain": [
       "Index(['h1n1_concern', 'h1n1_knowledge', 'behavioral_antiviral_meds',\n",
       "       'behavioral_avoidance', 'behavioral_face_mask', 'behavioral_wash_hands',\n",
       "       'behavioral_large_gatherings', 'behavioral_outside_home',\n",
       "       'behavioral_touch_face', 'doctor_recc_h1n1', 'doctor_recc_seasonal',\n",
       "       'chronic_med_condition', 'child_under_6_months', 'health_worker',\n",
       "       'health_insurance', 'opinion_h1n1_vacc_effective', 'opinion_h1n1_risk',\n",
       "       'opinion_h1n1_sick_from_vacc', 'opinion_seas_vacc_effective',\n",
       "       'opinion_seas_risk', 'opinion_seas_sick_from_vacc', 'age_group',\n",
       "       'education', 'race', 'sex', 'income_poverty', 'marital_status',\n",
       "       'rent_or_own', 'employment_status', 'hhs_geo_region', 'census_msa',\n",
       "       'household_adults', 'household_children', 'employment_industry',\n",
       "       'employment_occupation', 'h1n1_vaccine', 'seasonal_vaccine'],\n",
       "      dtype='object')"
      ]
     },
     "execution_count": 3,
     "metadata": {},
     "output_type": "execute_result"
    }
   ],
   "source": [
    "df.columns"
   ]
  },
  {
   "cell_type": "markdown",
   "metadata": {
    "id": "_B5OcTa8MPuh"
   },
   "source": [
    "The columns represent attributed of each record. we can look at a general summary of the data types contained in the rows by .info()"
   ]
  },
  {
   "cell_type": "code",
   "execution_count": 4,
   "metadata": {
    "colab": {
     "base_uri": "https://localhost:8080/"
    },
    "id": "mB_Hhyc3ttEt",
    "outputId": "c09cdd65-c8b7-4cee-fddd-e6718cf1d095"
   },
   "outputs": [
    {
     "name": "stdout",
     "output_type": "stream",
     "text": [
      "<class 'pandas.core.frame.DataFrame'>\n",
      "Index: 26707 entries, 0 to 26706\n",
      "Data columns (total 37 columns):\n",
      " #   Column                       Non-Null Count  Dtype  \n",
      "---  ------                       --------------  -----  \n",
      " 0   h1n1_concern                 26615 non-null  float64\n",
      " 1   h1n1_knowledge               26591 non-null  float64\n",
      " 2   behavioral_antiviral_meds    26636 non-null  float64\n",
      " 3   behavioral_avoidance         26499 non-null  float64\n",
      " 4   behavioral_face_mask         26688 non-null  float64\n",
      " 5   behavioral_wash_hands        26665 non-null  float64\n",
      " 6   behavioral_large_gatherings  26620 non-null  float64\n",
      " 7   behavioral_outside_home      26625 non-null  float64\n",
      " 8   behavioral_touch_face        26579 non-null  float64\n",
      " 9   doctor_recc_h1n1             24547 non-null  float64\n",
      " 10  doctor_recc_seasonal         24547 non-null  float64\n",
      " 11  chronic_med_condition        25736 non-null  float64\n",
      " 12  child_under_6_months         25887 non-null  float64\n",
      " 13  health_worker                25903 non-null  float64\n",
      " 14  health_insurance             14433 non-null  float64\n",
      " 15  opinion_h1n1_vacc_effective  26316 non-null  float64\n",
      " 16  opinion_h1n1_risk            26319 non-null  float64\n",
      " 17  opinion_h1n1_sick_from_vacc  26312 non-null  float64\n",
      " 18  opinion_seas_vacc_effective  26245 non-null  float64\n",
      " 19  opinion_seas_risk            26193 non-null  float64\n",
      " 20  opinion_seas_sick_from_vacc  26170 non-null  float64\n",
      " 21  age_group                    26707 non-null  object \n",
      " 22  education                    25300 non-null  object \n",
      " 23  race                         26707 non-null  object \n",
      " 24  sex                          26707 non-null  object \n",
      " 25  income_poverty               22284 non-null  object \n",
      " 26  marital_status               25299 non-null  object \n",
      " 27  rent_or_own                  24665 non-null  object \n",
      " 28  employment_status            25244 non-null  object \n",
      " 29  hhs_geo_region               26707 non-null  object \n",
      " 30  census_msa                   26707 non-null  object \n",
      " 31  household_adults             26458 non-null  float64\n",
      " 32  household_children           26458 non-null  float64\n",
      " 33  employment_industry          13377 non-null  object \n",
      " 34  employment_occupation        13237 non-null  object \n",
      " 35  h1n1_vaccine                 26707 non-null  int64  \n",
      " 36  seasonal_vaccine             26707 non-null  int64  \n",
      "dtypes: float64(23), int64(2), object(12)\n",
      "memory usage: 8.8+ MB\n"
     ]
    }
   ],
   "source": [
    "# checking the information contained in the dataframe\n",
    "df.info()"
   ]
  },
  {
   "cell_type": "markdown",
   "metadata": {
    "id": "TscFkHlCMsNM"
   },
   "source": [
    "There are 23 float type columns, 2 integer type columns and the rest are of string/object type. We can use the numerical columns to do a brief summary using .describe()"
   ]
  },
  {
   "cell_type": "code",
   "execution_count": 5,
   "metadata": {
    "colab": {
     "base_uri": "https://localhost:8080/",
     "height": 350
    },
    "id": "EBAaaO6Yt_6g",
    "outputId": "c35eac80-fac4-4c58-e95f-e242004d4406"
   },
   "outputs": [
    {
     "data": {
      "text/html": [
       "<div>\n",
       "<style scoped>\n",
       "    .dataframe tbody tr th:only-of-type {\n",
       "        vertical-align: middle;\n",
       "    }\n",
       "\n",
       "    .dataframe tbody tr th {\n",
       "        vertical-align: top;\n",
       "    }\n",
       "\n",
       "    .dataframe thead th {\n",
       "        text-align: right;\n",
       "    }\n",
       "</style>\n",
       "<table border=\"1\" class=\"dataframe\">\n",
       "  <thead>\n",
       "    <tr style=\"text-align: right;\">\n",
       "      <th></th>\n",
       "      <th>h1n1_concern</th>\n",
       "      <th>h1n1_knowledge</th>\n",
       "      <th>behavioral_antiviral_meds</th>\n",
       "      <th>behavioral_avoidance</th>\n",
       "      <th>behavioral_face_mask</th>\n",
       "      <th>behavioral_wash_hands</th>\n",
       "      <th>behavioral_large_gatherings</th>\n",
       "      <th>behavioral_outside_home</th>\n",
       "      <th>behavioral_touch_face</th>\n",
       "      <th>doctor_recc_h1n1</th>\n",
       "      <th>...</th>\n",
       "      <th>opinion_h1n1_vacc_effective</th>\n",
       "      <th>opinion_h1n1_risk</th>\n",
       "      <th>opinion_h1n1_sick_from_vacc</th>\n",
       "      <th>opinion_seas_vacc_effective</th>\n",
       "      <th>opinion_seas_risk</th>\n",
       "      <th>opinion_seas_sick_from_vacc</th>\n",
       "      <th>household_adults</th>\n",
       "      <th>household_children</th>\n",
       "      <th>h1n1_vaccine</th>\n",
       "      <th>seasonal_vaccine</th>\n",
       "    </tr>\n",
       "  </thead>\n",
       "  <tbody>\n",
       "    <tr>\n",
       "      <th>count</th>\n",
       "      <td>26615.000000</td>\n",
       "      <td>26591.000000</td>\n",
       "      <td>26636.000000</td>\n",
       "      <td>26499.000000</td>\n",
       "      <td>26688.000000</td>\n",
       "      <td>26665.000000</td>\n",
       "      <td>26620.00000</td>\n",
       "      <td>26625.000000</td>\n",
       "      <td>26579.000000</td>\n",
       "      <td>24547.000000</td>\n",
       "      <td>...</td>\n",
       "      <td>26316.000000</td>\n",
       "      <td>26319.000000</td>\n",
       "      <td>26312.000000</td>\n",
       "      <td>26245.000000</td>\n",
       "      <td>26193.000000</td>\n",
       "      <td>26170.000000</td>\n",
       "      <td>26458.000000</td>\n",
       "      <td>26458.000000</td>\n",
       "      <td>26707.000000</td>\n",
       "      <td>26707.000000</td>\n",
       "    </tr>\n",
       "    <tr>\n",
       "      <th>mean</th>\n",
       "      <td>1.618486</td>\n",
       "      <td>1.262532</td>\n",
       "      <td>0.048844</td>\n",
       "      <td>0.725612</td>\n",
       "      <td>0.068982</td>\n",
       "      <td>0.825614</td>\n",
       "      <td>0.35864</td>\n",
       "      <td>0.337315</td>\n",
       "      <td>0.677264</td>\n",
       "      <td>0.220312</td>\n",
       "      <td>...</td>\n",
       "      <td>3.850623</td>\n",
       "      <td>2.342566</td>\n",
       "      <td>2.357670</td>\n",
       "      <td>4.025986</td>\n",
       "      <td>2.719162</td>\n",
       "      <td>2.118112</td>\n",
       "      <td>0.886499</td>\n",
       "      <td>0.534583</td>\n",
       "      <td>0.212454</td>\n",
       "      <td>0.465608</td>\n",
       "    </tr>\n",
       "    <tr>\n",
       "      <th>std</th>\n",
       "      <td>0.910311</td>\n",
       "      <td>0.618149</td>\n",
       "      <td>0.215545</td>\n",
       "      <td>0.446214</td>\n",
       "      <td>0.253429</td>\n",
       "      <td>0.379448</td>\n",
       "      <td>0.47961</td>\n",
       "      <td>0.472802</td>\n",
       "      <td>0.467531</td>\n",
       "      <td>0.414466</td>\n",
       "      <td>...</td>\n",
       "      <td>1.007436</td>\n",
       "      <td>1.285539</td>\n",
       "      <td>1.362766</td>\n",
       "      <td>1.086565</td>\n",
       "      <td>1.385055</td>\n",
       "      <td>1.332950</td>\n",
       "      <td>0.753422</td>\n",
       "      <td>0.928173</td>\n",
       "      <td>0.409052</td>\n",
       "      <td>0.498825</td>\n",
       "    </tr>\n",
       "    <tr>\n",
       "      <th>min</th>\n",
       "      <td>0.000000</td>\n",
       "      <td>0.000000</td>\n",
       "      <td>0.000000</td>\n",
       "      <td>0.000000</td>\n",
       "      <td>0.000000</td>\n",
       "      <td>0.000000</td>\n",
       "      <td>0.00000</td>\n",
       "      <td>0.000000</td>\n",
       "      <td>0.000000</td>\n",
       "      <td>0.000000</td>\n",
       "      <td>...</td>\n",
       "      <td>1.000000</td>\n",
       "      <td>1.000000</td>\n",
       "      <td>1.000000</td>\n",
       "      <td>1.000000</td>\n",
       "      <td>1.000000</td>\n",
       "      <td>1.000000</td>\n",
       "      <td>0.000000</td>\n",
       "      <td>0.000000</td>\n",
       "      <td>0.000000</td>\n",
       "      <td>0.000000</td>\n",
       "    </tr>\n",
       "    <tr>\n",
       "      <th>25%</th>\n",
       "      <td>1.000000</td>\n",
       "      <td>1.000000</td>\n",
       "      <td>0.000000</td>\n",
       "      <td>0.000000</td>\n",
       "      <td>0.000000</td>\n",
       "      <td>1.000000</td>\n",
       "      <td>0.00000</td>\n",
       "      <td>0.000000</td>\n",
       "      <td>0.000000</td>\n",
       "      <td>0.000000</td>\n",
       "      <td>...</td>\n",
       "      <td>3.000000</td>\n",
       "      <td>1.000000</td>\n",
       "      <td>1.000000</td>\n",
       "      <td>4.000000</td>\n",
       "      <td>2.000000</td>\n",
       "      <td>1.000000</td>\n",
       "      <td>0.000000</td>\n",
       "      <td>0.000000</td>\n",
       "      <td>0.000000</td>\n",
       "      <td>0.000000</td>\n",
       "    </tr>\n",
       "    <tr>\n",
       "      <th>50%</th>\n",
       "      <td>2.000000</td>\n",
       "      <td>1.000000</td>\n",
       "      <td>0.000000</td>\n",
       "      <td>1.000000</td>\n",
       "      <td>0.000000</td>\n",
       "      <td>1.000000</td>\n",
       "      <td>0.00000</td>\n",
       "      <td>0.000000</td>\n",
       "      <td>1.000000</td>\n",
       "      <td>0.000000</td>\n",
       "      <td>...</td>\n",
       "      <td>4.000000</td>\n",
       "      <td>2.000000</td>\n",
       "      <td>2.000000</td>\n",
       "      <td>4.000000</td>\n",
       "      <td>2.000000</td>\n",
       "      <td>2.000000</td>\n",
       "      <td>1.000000</td>\n",
       "      <td>0.000000</td>\n",
       "      <td>0.000000</td>\n",
       "      <td>0.000000</td>\n",
       "    </tr>\n",
       "    <tr>\n",
       "      <th>75%</th>\n",
       "      <td>2.000000</td>\n",
       "      <td>2.000000</td>\n",
       "      <td>0.000000</td>\n",
       "      <td>1.000000</td>\n",
       "      <td>0.000000</td>\n",
       "      <td>1.000000</td>\n",
       "      <td>1.00000</td>\n",
       "      <td>1.000000</td>\n",
       "      <td>1.000000</td>\n",
       "      <td>0.000000</td>\n",
       "      <td>...</td>\n",
       "      <td>5.000000</td>\n",
       "      <td>4.000000</td>\n",
       "      <td>4.000000</td>\n",
       "      <td>5.000000</td>\n",
       "      <td>4.000000</td>\n",
       "      <td>4.000000</td>\n",
       "      <td>1.000000</td>\n",
       "      <td>1.000000</td>\n",
       "      <td>0.000000</td>\n",
       "      <td>1.000000</td>\n",
       "    </tr>\n",
       "    <tr>\n",
       "      <th>max</th>\n",
       "      <td>3.000000</td>\n",
       "      <td>2.000000</td>\n",
       "      <td>1.000000</td>\n",
       "      <td>1.000000</td>\n",
       "      <td>1.000000</td>\n",
       "      <td>1.000000</td>\n",
       "      <td>1.00000</td>\n",
       "      <td>1.000000</td>\n",
       "      <td>1.000000</td>\n",
       "      <td>1.000000</td>\n",
       "      <td>...</td>\n",
       "      <td>5.000000</td>\n",
       "      <td>5.000000</td>\n",
       "      <td>5.000000</td>\n",
       "      <td>5.000000</td>\n",
       "      <td>5.000000</td>\n",
       "      <td>5.000000</td>\n",
       "      <td>3.000000</td>\n",
       "      <td>3.000000</td>\n",
       "      <td>1.000000</td>\n",
       "      <td>1.000000</td>\n",
       "    </tr>\n",
       "  </tbody>\n",
       "</table>\n",
       "<p>8 rows × 25 columns</p>\n",
       "</div>"
      ],
      "text/plain": [
       "       h1n1_concern  h1n1_knowledge  behavioral_antiviral_meds  \\\n",
       "count  26615.000000    26591.000000               26636.000000   \n",
       "mean       1.618486        1.262532                   0.048844   \n",
       "std        0.910311        0.618149                   0.215545   \n",
       "min        0.000000        0.000000                   0.000000   \n",
       "25%        1.000000        1.000000                   0.000000   \n",
       "50%        2.000000        1.000000                   0.000000   \n",
       "75%        2.000000        2.000000                   0.000000   \n",
       "max        3.000000        2.000000                   1.000000   \n",
       "\n",
       "       behavioral_avoidance  behavioral_face_mask  behavioral_wash_hands  \\\n",
       "count          26499.000000          26688.000000           26665.000000   \n",
       "mean               0.725612              0.068982               0.825614   \n",
       "std                0.446214              0.253429               0.379448   \n",
       "min                0.000000              0.000000               0.000000   \n",
       "25%                0.000000              0.000000               1.000000   \n",
       "50%                1.000000              0.000000               1.000000   \n",
       "75%                1.000000              0.000000               1.000000   \n",
       "max                1.000000              1.000000               1.000000   \n",
       "\n",
       "       behavioral_large_gatherings  behavioral_outside_home  \\\n",
       "count                  26620.00000             26625.000000   \n",
       "mean                       0.35864                 0.337315   \n",
       "std                        0.47961                 0.472802   \n",
       "min                        0.00000                 0.000000   \n",
       "25%                        0.00000                 0.000000   \n",
       "50%                        0.00000                 0.000000   \n",
       "75%                        1.00000                 1.000000   \n",
       "max                        1.00000                 1.000000   \n",
       "\n",
       "       behavioral_touch_face  doctor_recc_h1n1  ...  \\\n",
       "count           26579.000000      24547.000000  ...   \n",
       "mean                0.677264          0.220312  ...   \n",
       "std                 0.467531          0.414466  ...   \n",
       "min                 0.000000          0.000000  ...   \n",
       "25%                 0.000000          0.000000  ...   \n",
       "50%                 1.000000          0.000000  ...   \n",
       "75%                 1.000000          0.000000  ...   \n",
       "max                 1.000000          1.000000  ...   \n",
       "\n",
       "       opinion_h1n1_vacc_effective  opinion_h1n1_risk  \\\n",
       "count                 26316.000000       26319.000000   \n",
       "mean                      3.850623           2.342566   \n",
       "std                       1.007436           1.285539   \n",
       "min                       1.000000           1.000000   \n",
       "25%                       3.000000           1.000000   \n",
       "50%                       4.000000           2.000000   \n",
       "75%                       5.000000           4.000000   \n",
       "max                       5.000000           5.000000   \n",
       "\n",
       "       opinion_h1n1_sick_from_vacc  opinion_seas_vacc_effective  \\\n",
       "count                 26312.000000                 26245.000000   \n",
       "mean                      2.357670                     4.025986   \n",
       "std                       1.362766                     1.086565   \n",
       "min                       1.000000                     1.000000   \n",
       "25%                       1.000000                     4.000000   \n",
       "50%                       2.000000                     4.000000   \n",
       "75%                       4.000000                     5.000000   \n",
       "max                       5.000000                     5.000000   \n",
       "\n",
       "       opinion_seas_risk  opinion_seas_sick_from_vacc  household_adults  \\\n",
       "count       26193.000000                 26170.000000      26458.000000   \n",
       "mean            2.719162                     2.118112          0.886499   \n",
       "std             1.385055                     1.332950          0.753422   \n",
       "min             1.000000                     1.000000          0.000000   \n",
       "25%             2.000000                     1.000000          0.000000   \n",
       "50%             2.000000                     2.000000          1.000000   \n",
       "75%             4.000000                     4.000000          1.000000   \n",
       "max             5.000000                     5.000000          3.000000   \n",
       "\n",
       "       household_children  h1n1_vaccine  seasonal_vaccine  \n",
       "count        26458.000000  26707.000000      26707.000000  \n",
       "mean             0.534583      0.212454          0.465608  \n",
       "std              0.928173      0.409052          0.498825  \n",
       "min              0.000000      0.000000          0.000000  \n",
       "25%              0.000000      0.000000          0.000000  \n",
       "50%              0.000000      0.000000          0.000000  \n",
       "75%              1.000000      0.000000          1.000000  \n",
       "max              3.000000      1.000000          1.000000  \n",
       "\n",
       "[8 rows x 25 columns]"
      ]
     },
     "execution_count": 5,
     "metadata": {},
     "output_type": "execute_result"
    }
   ],
   "source": [
    "# describing the dataframe\n",
    "df.describe()"
   ]
  },
  {
   "cell_type": "markdown",
   "metadata": {
    "id": "iX0RzASlNpyx"
   },
   "source": [
    "### DATA PREPARATION\n",
    "Prepare the data for analysis and modeling. Check for missing values and duplicates. Then we clean up the missing data by dropping some columns, some rows and imputing some values for the missing data"
   ]
  },
  {
   "cell_type": "code",
   "execution_count": 6,
   "metadata": {
    "colab": {
     "base_uri": "https://localhost:8080/",
     "height": 1000
    },
    "id": "HZIYTfZaNcdI",
    "outputId": "6ded4f04-dccc-4f4d-be4e-041d8306c4a8"
   },
   "outputs": [
    {
     "data": {
      "text/plain": [
       "h1n1_concern                      92\n",
       "h1n1_knowledge                   116\n",
       "behavioral_antiviral_meds         71\n",
       "behavioral_avoidance             208\n",
       "behavioral_face_mask              19\n",
       "behavioral_wash_hands             42\n",
       "behavioral_large_gatherings       87\n",
       "behavioral_outside_home           82\n",
       "behavioral_touch_face            128\n",
       "doctor_recc_h1n1                2160\n",
       "doctor_recc_seasonal            2160\n",
       "chronic_med_condition            971\n",
       "child_under_6_months             820\n",
       "health_worker                    804\n",
       "health_insurance               12274\n",
       "opinion_h1n1_vacc_effective      391\n",
       "opinion_h1n1_risk                388\n",
       "opinion_h1n1_sick_from_vacc      395\n",
       "opinion_seas_vacc_effective      462\n",
       "opinion_seas_risk                514\n",
       "opinion_seas_sick_from_vacc      537\n",
       "age_group                          0\n",
       "education                       1407\n",
       "race                               0\n",
       "sex                                0\n",
       "income_poverty                  4423\n",
       "marital_status                  1408\n",
       "rent_or_own                     2042\n",
       "employment_status               1463\n",
       "hhs_geo_region                     0\n",
       "census_msa                         0\n",
       "household_adults                 249\n",
       "household_children               249\n",
       "employment_industry            13330\n",
       "employment_occupation          13470\n",
       "h1n1_vaccine                       0\n",
       "seasonal_vaccine                   0\n",
       "dtype: int64"
      ]
     },
     "execution_count": 6,
     "metadata": {},
     "output_type": "execute_result"
    }
   ],
   "source": [
    "# checking for null values\n",
    "df.isnull().sum()"
   ]
  },
  {
   "cell_type": "code",
   "execution_count": 7,
   "metadata": {
    "colab": {
     "base_uri": "https://localhost:8080/"
    },
    "id": "XDO-DUPyfl0U",
    "outputId": "e4ad50c6-204d-491d-f93d-a636ed802095"
   },
   "outputs": [
    {
     "data": {
      "text/plain": [
       "0"
      ]
     },
     "execution_count": 7,
     "metadata": {},
     "output_type": "execute_result"
    }
   ],
   "source": [
    "# checking for duplicates\n",
    "df.duplicated().sum()"
   ]
  },
  {
   "cell_type": "markdown",
   "metadata": {
    "id": "s9vFOHQHiGz9"
   },
   "source": [
    "There are many missing values and no duplicated values. We can go ahead and check some of the columns with missing values."
   ]
  },
  {
   "cell_type": "code",
   "execution_count": 8,
   "metadata": {
    "id": "QOeQaFRWgRqV"
   },
   "outputs": [],
   "source": [
    "# checking for the values in the specific columns\n",
    "def check_column(column_name):\n",
    "  value = df[column_name].value_counts()\n",
    "  print(value)\n",
    "  pass"
   ]
  },
  {
   "cell_type": "code",
   "execution_count": 9,
   "metadata": {
    "colab": {
     "base_uri": "https://localhost:8080/"
    },
    "id": "9HimlZ7FlCaT",
    "outputId": "44c3d695-8096-4ed1-c351-20f493fc1cd2"
   },
   "outputs": [
    {
     "name": "stdout",
     "output_type": "stream",
     "text": [
      "income_poverty\n",
      "<= $75,000, Above Poverty    12777\n",
      "> $75,000                     6810\n",
      "Below Poverty                 2697\n",
      "Name: count, dtype: int64\n"
     ]
    }
   ],
   "source": [
    "# checking the income poverty column\n",
    "check_column('income_poverty')"
   ]
  },
  {
   "cell_type": "code",
   "execution_count": 10,
   "metadata": {
    "colab": {
     "base_uri": "https://localhost:8080/"
    },
    "id": "2zRglJsKi7pv",
    "outputId": "209fb90a-fd0b-4f0c-fef9-16be5405c3c3"
   },
   "outputs": [
    {
     "name": "stdout",
     "output_type": "stream",
     "text": [
      "hhs_geo_region\n",
      "lzgpxyit    4297\n",
      "fpwskwrf    3265\n",
      "qufhixun    3102\n",
      "oxchjgsf    2859\n",
      "kbazzjca    2858\n",
      "bhuqouqj    2846\n",
      "mlyzmhmf    2243\n",
      "lrircsnp    2078\n",
      "atmpeygn    2033\n",
      "dqpwygqj    1126\n",
      "Name: count, dtype: int64\n",
      "census_msa\n",
      "MSA, Not Principle  City    11645\n",
      "MSA, Principle City          7864\n",
      "Non-MSA                      7198\n",
      "Name: count, dtype: int64\n",
      "employment_industry\n",
      "fcxhlnwr    2468\n",
      "wxleyezf    1804\n",
      "ldnlellj    1231\n",
      "pxcmvdjn    1037\n",
      "atmlpfrs     926\n",
      "arjwrbjb     871\n",
      "xicduogh     851\n",
      "mfikgejo     614\n",
      "vjjrobsf     527\n",
      "rucpziij     523\n",
      "xqicxuve     511\n",
      "saaquncn     338\n",
      "cfqqtusy     325\n",
      "nduyfdeo     286\n",
      "mcubkhph     275\n",
      "wlfvacwt     215\n",
      "dotnnunm     201\n",
      "haxffmxo     148\n",
      "msuufmds     124\n",
      "phxvnwax      89\n",
      "qnlwzans      13\n",
      "Name: count, dtype: int64\n",
      "employment_occupation\n",
      "xtkaffoo    1778\n",
      "mxkfnird    1509\n",
      "emcorrxb    1270\n",
      "cmhcxjea    1247\n",
      "xgwztkwe    1082\n",
      "hfxkjkmi     766\n",
      "qxajmpny     548\n",
      "xqwwgdyp     485\n",
      "kldqjyjy     469\n",
      "uqqtjvyb     452\n",
      "tfqavkke     388\n",
      "ukymxvdu     372\n",
      "vlluhbov     354\n",
      "oijqvulv     344\n",
      "ccgxvspp     341\n",
      "bxpfxfdn     331\n",
      "haliazsg     296\n",
      "rcertsgn     276\n",
      "xzmlyyjv     248\n",
      "dlvbwzss     227\n",
      "hodpvpew     208\n",
      "dcjcmpih     148\n",
      "pvmttkik      98\n",
      "Name: count, dtype: int64\n"
     ]
    }
   ],
   "source": [
    "# checking some columns with null values\n",
    "check_column('hhs_geo_region')\n",
    "check_column('census_msa')\n",
    "check_column('employment_industry')\n",
    "check_column('employment_occupation')"
   ]
  },
  {
   "cell_type": "markdown",
   "metadata": {
    "id": "JGOKP-Q1lSxO"
   },
   "source": [
    "These columns are not very clear on what they represent. we can go ahead and drop them; to declutter the dataframe."
   ]
  },
  {
   "cell_type": "code",
   "execution_count": 11,
   "metadata": {
    "id": "CjkAADx4-sWG"
   },
   "outputs": [],
   "source": [
    "# dropping the unnecessary columns\n",
    "df.drop(['hhs_geo_region', 'census_msa', 'employment_industry', 'employment_occupation'], axis=1, inplace=True)"
   ]
  },
  {
   "cell_type": "code",
   "execution_count": 12,
   "metadata": {
    "colab": {
     "base_uri": "https://localhost:8080/"
    },
    "id": "r0d03kvUkCFr",
    "outputId": "daa6ca19-e799-4632-e0b0-1b8a25960cfa"
   },
   "outputs": [
    {
     "name": "stdout",
     "output_type": "stream",
     "text": [
      "employment_status\n",
      "Employed              13560\n",
      "Not in Labor Force    10231\n",
      "Unemployed             1453\n",
      "Name: count, dtype: int64\n"
     ]
    }
   ],
   "source": [
    "# checking the employment status column\n",
    "check_column('employment_status')"
   ]
  },
  {
   "cell_type": "code",
   "execution_count": 13,
   "metadata": {
    "colab": {
     "base_uri": "https://localhost:8080/"
    },
    "id": "Cw7bvOsQfsNM",
    "outputId": "be753da5-5d27-4825-d4f6-b1b0622304f9"
   },
   "outputs": [
    {
     "name": "stdout",
     "output_type": "stream",
     "text": [
      "education\n",
      "College Graduate    10097\n",
      "Some College         7043\n",
      "12 Years             5797\n",
      "< 12 Years           2363\n",
      "Name: count, dtype: int64\n"
     ]
    }
   ],
   "source": [
    "# checking the education column\n",
    "check_column('education')"
   ]
  },
  {
   "cell_type": "code",
   "execution_count": 14,
   "metadata": {
    "colab": {
     "base_uri": "https://localhost:8080/"
    },
    "id": "7s13FKPakO0m",
    "outputId": "75600a41-4591-4b02-a96d-41b1412f9a99"
   },
   "outputs": [
    {
     "name": "stdout",
     "output_type": "stream",
     "text": [
      "marital_status\n",
      "Married        13555\n",
      "Not Married    11744\n",
      "Name: count, dtype: int64\n"
     ]
    }
   ],
   "source": [
    "# checking the marital status column\n",
    "check_column('marital_status')"
   ]
  },
  {
   "cell_type": "code",
   "execution_count": 15,
   "metadata": {
    "colab": {
     "base_uri": "https://localhost:8080/"
    },
    "id": "TQbEyGpvknPa",
    "outputId": "51f7ccad-3626-40c7-83f1-d628466f8de3"
   },
   "outputs": [
    {
     "name": "stdout",
     "output_type": "stream",
     "text": [
      "rent_or_own\n",
      "Own     18736\n",
      "Rent     5929\n",
      "Name: count, dtype: int64\n"
     ]
    }
   ],
   "source": [
    "# checking the rent or own column\n",
    "check_column('rent_or_own')"
   ]
  },
  {
   "cell_type": "code",
   "execution_count": 16,
   "metadata": {
    "colab": {
     "base_uri": "https://localhost:8080/"
    },
    "id": "GWXhgwqmgbUR",
    "outputId": "937234d9-4210-4db9-f93a-0082e8391e45"
   },
   "outputs": [
    {
     "name": "stdout",
     "output_type": "stream",
     "text": [
      "health_insurance\n",
      "1.0    12697\n",
      "0.0     1736\n",
      "Name: count, dtype: int64\n"
     ]
    }
   ],
   "source": [
    "# checking for the values in the health insurance column\n",
    "check_column('health_insurance')"
   ]
  },
  {
   "cell_type": "markdown",
   "metadata": {
    "id": "n8BgRC16mKDf"
   },
   "source": [
    "Health insurance is an important column in the analysis. We can impute the missing values with the median."
   ]
  },
  {
   "cell_type": "code",
   "execution_count": 17,
   "metadata": {
    "colab": {
     "base_uri": "https://localhost:8080/"
    },
    "id": "F9vsC_TEAjxf",
    "outputId": "5ccd3241-8ab2-486c-cc3b-06800d940370"
   },
   "outputs": [],
   "source": [
    "# filling null values in health insurance column with median\n",
    "df['health_insurance'].fillna(df['health_insurance'].median(), inplace=True)"
   ]
  },
  {
   "cell_type": "markdown",
   "metadata": {
    "id": "Cqm2UYWGCNxO"
   },
   "source": [
    "After this, the column with the highest missing values is income poverty. We can check the percentage of the missing values."
   ]
  },
  {
   "cell_type": "code",
   "execution_count": 18,
   "metadata": {
    "colab": {
     "base_uri": "https://localhost:8080/"
    },
    "id": "HlrtpIeECAt5",
    "outputId": "53e084de-f698-4d99-b173-dfa1b8e2a45a"
   },
   "outputs": [
    {
     "data": {
      "text/plain": [
       "16.561201183210393"
      ]
     },
     "execution_count": 18,
     "metadata": {},
     "output_type": "execute_result"
    }
   ],
   "source": [
    "# getting the % of null values in the income poverty column\n",
    "len(df[df['income_poverty'].isnull()])/len(df)*100"
   ]
  },
  {
   "cell_type": "markdown",
   "metadata": {
    "id": "ra5lbc_JB04z"
   },
   "source": [
    "We can go ahead and drop the rows containing missing values, since they are less than 20%"
   ]
  },
  {
   "cell_type": "code",
   "execution_count": 19,
   "metadata": {
    "id": "mXlZR91yC5ji"
   },
   "outputs": [],
   "source": [
    "# dropping all the rows with null values\n",
    "df.dropna(inplace=True)"
   ]
  },
  {
   "cell_type": "code",
   "execution_count": 20,
   "metadata": {
    "colab": {
     "base_uri": "https://localhost:8080/"
    },
    "id": "nsIK_fumDEay",
    "outputId": "5cd2c94e-5e9a-43f9-9895-548835a1caa4"
   },
   "outputs": [
    {
     "name": "stdout",
     "output_type": "stream",
     "text": [
      "<class 'pandas.core.frame.DataFrame'>\n",
      "Index: 19642 entries, 0 to 26706\n",
      "Data columns (total 33 columns):\n",
      " #   Column                       Non-Null Count  Dtype  \n",
      "---  ------                       --------------  -----  \n",
      " 0   h1n1_concern                 19642 non-null  float64\n",
      " 1   h1n1_knowledge               19642 non-null  float64\n",
      " 2   behavioral_antiviral_meds    19642 non-null  float64\n",
      " 3   behavioral_avoidance         19642 non-null  float64\n",
      " 4   behavioral_face_mask         19642 non-null  float64\n",
      " 5   behavioral_wash_hands        19642 non-null  float64\n",
      " 6   behavioral_large_gatherings  19642 non-null  float64\n",
      " 7   behavioral_outside_home      19642 non-null  float64\n",
      " 8   behavioral_touch_face        19642 non-null  float64\n",
      " 9   doctor_recc_h1n1             19642 non-null  float64\n",
      " 10  doctor_recc_seasonal         19642 non-null  float64\n",
      " 11  chronic_med_condition        19642 non-null  float64\n",
      " 12  child_under_6_months         19642 non-null  float64\n",
      " 13  health_worker                19642 non-null  float64\n",
      " 14  health_insurance             19642 non-null  float64\n",
      " 15  opinion_h1n1_vacc_effective  19642 non-null  float64\n",
      " 16  opinion_h1n1_risk            19642 non-null  float64\n",
      " 17  opinion_h1n1_sick_from_vacc  19642 non-null  float64\n",
      " 18  opinion_seas_vacc_effective  19642 non-null  float64\n",
      " 19  opinion_seas_risk            19642 non-null  float64\n",
      " 20  opinion_seas_sick_from_vacc  19642 non-null  float64\n",
      " 21  age_group                    19642 non-null  object \n",
      " 22  education                    19642 non-null  object \n",
      " 23  race                         19642 non-null  object \n",
      " 24  sex                          19642 non-null  object \n",
      " 25  income_poverty               19642 non-null  object \n",
      " 26  marital_status               19642 non-null  object \n",
      " 27  rent_or_own                  19642 non-null  object \n",
      " 28  employment_status            19642 non-null  object \n",
      " 29  household_adults             19642 non-null  float64\n",
      " 30  household_children           19642 non-null  float64\n",
      " 31  h1n1_vaccine                 19642 non-null  int64  \n",
      " 32  seasonal_vaccine             19642 non-null  int64  \n",
      "dtypes: float64(23), int64(2), object(8)\n",
      "memory usage: 5.1+ MB\n"
     ]
    }
   ],
   "source": [
    "# checking the remaining data\n",
    "df.info()"
   ]
  },
  {
   "cell_type": "markdown",
   "metadata": {
    "id": "eQ4_Z_G3DNRf"
   },
   "source": [
    "The data has reduced to 19,642 with no missing values we can then move to Exploratory data analysis."
   ]
  },
  {
   "cell_type": "markdown",
   "metadata": {
    "id": "f2ADJk6iESHw"
   },
   "source": [
    "### EXPLORATORY DATA ANALYSIS\n",
    "\n",
    "We start by looking at demographic features and how they affect vaccine uptake"
   ]
  },
  {
   "cell_type": "code",
   "execution_count": 21,
   "metadata": {
    "colab": {
     "base_uri": "https://localhost:8080/",
     "height": 1000
    },
    "id": "VyP_S7Z5EmXv",
    "outputId": "5630dbfa-da6d-424b-babf-bb650034c9f7"
   },
   "outputs": [
    {
     "data": {
      "image/png": "[encoded data removed]",
      "text/plain": [
       "<Figure size 432x288 with 1 Axes>"
      ]
     },
     "metadata": {
      "needs_background": "light"
     },
     "output_type": "display_data"
    },
    {
     "data": {
      "image/png": "[encoded data removed]",
      "text/plain": [
       "<Figure size 432x288 with 1 Axes>"
      ]
     },
     "metadata": {
      "needs_background": "light"
     },
     "output_type": "display_data"
    },
    {
     "data": {
      "image/png": "[encoded data removed]",
      "text/plain": [
       "<Figure size 432x288 with 1 Axes>"
      ]
     },
     "metadata": {
      "needs_background": "light"
     },
     "output_type": "display_data"
    },
    {
     "data": {
      "image/png": "[encoded data removed]",
      "text/plain": [
       "<Figure size 432x288 with 1 Axes>"
      ]
     },
     "metadata": {
      "needs_background": "light"
     },
     "output_type": "display_data"
    },
    {
     "data": {
      "image/png": "[encoded data removed]",
      "text/plain": [
       "<Figure size 432x288 with 1 Axes>"
      ]
     },
     "metadata": {
      "needs_background": "light"
     },
     "output_type": "display_data"
    },
    {
     "data": {
      "image/png": "[encoded data removed]",
      "text/plain": [
       "<Figure size 432x288 with 1 Axes>"
      ]
     },
     "metadata": {
      "needs_background": "light"
     },
     "output_type": "display_data"
    },
    {
     "data": {
      "image/png": "[encoded data removed]",
      "text/plain": [
       "<Figure size 432x288 with 1 Axes>"
      ]
     },
     "metadata": {
      "needs_background": "light"
     },
     "output_type": "display_data"
    },
    {
     "data": {
      "image/png": "[encoded data removed]",
      "text/plain": [
       "<Figure size 432x288 with 1 Axes>"
      ]
     },
     "metadata": {
      "needs_background": "light"
     },
     "output_type": "display_data"
    },
    {
     "data": {
      "image/png": "[encoded data removed]",
      "text/plain": [
       "<Figure size 432x288 with 1 Axes>"
      ]
     },
     "metadata": {
      "needs_background": "light"
     },
     "output_type": "display_data"
    }
   ],
   "source": [
    "# creating a visual for demographic factors\n",
    "import matplotlib.pyplot as plt\n",
    "import seaborn as sns\n",
    "%matplotlib inline\n",
    "\n",
    "demographic = ['race', 'sex', 'education', 'marital_status', 'income_poverty', 'rent_or_own','age_group','household_adults',\n",
    "               'household_children']\n",
    "target = 'h1n1_vaccine'\n",
    "for col in demographic:\n",
    "    sns.countplot(data=df, y=col, hue=target)\n",
    "    plt.title(col)\n",
    "    plt.show()\n"
   ]
  },
  {
   "cell_type": "markdown",
   "metadata": {
    "id": "htPbZA7k2g0B"
   },
   "source": [
    "Demographic Factors and Vaccine Uptake\n",
    "\n",
    "Based on the visualizations, we can observe several trends:\n",
    "\n",
    "- Age: Older individuals tend to have higher vaccination rates. This could be due to increased risk perception, stronger healthcare seeking behaviors, or historical experiences with influenza.\n",
    "- Income: Higher income individuals are more likely to be vaccinated. This could be due to better access to healthcare, health insurance, and health information.\n",
    "- Education: Higher levels of education are associated with higher vaccination rates. This could be due to better health literacy and understanding of the benefits of vaccination.\n",
    "- Marital Status: Married individuals tend to have lower vaccination rates. This could be due to family responsibilities or other factors that might influence their decision-making.\n",
    "- Race and Ethnicity: Racial and ethnic minorities may have lower vaccination rates due to historical mistrust of the healthcare system, lack of access to healthcare, or cultural beliefs.\n",
    "\n",
    "We can now plot for attitudinal factors"
   ]
  },
  {
   "cell_type": "code",
   "execution_count": 22,
   "metadata": {
    "colab": {
     "base_uri": "https://localhost:8080/",
     "height": 1000
    },
    "id": "-VzfGjoo2md_",
    "outputId": "db69c7cc-ce9e-4606-94dc-b406f441a4b5"
   },
   "outputs": [
    {
     "data": {
      "image/png": "[encoded data removed]",
      "text/plain": [
       "<Figure size 432x288 with 1 Axes>"
      ]
     },
     "metadata": {
      "needs_background": "light"
     },
     "output_type": "display_data"
    },
    {
     "data": {
      "image/png": "[encoded data removed]",
      "text/plain": [
       "<Figure size 432x288 with 1 Axes>"
      ]
     },
     "metadata": {
      "needs_background": "light"
     },
     "output_type": "display_data"
    },
    {
     "data": {
      "image/png": "[encoded data removed]",
      "text/plain": [
       "<Figure size 432x288 with 1 Axes>"
      ]
     },
     "metadata": {
      "needs_background": "light"
     },
     "output_type": "display_data"
    },
    {
     "data": {
      "image/png": "[encoded data removed]",
      "text/plain": [
       "<Figure size 432x288 with 1 Axes>"
      ]
     },
     "metadata": {
      "needs_background": "light"
     },
     "output_type": "display_data"
    },
    {
     "data": {
      "image/png": "[encoded data removed]",
      "text/plain": [
       "<Figure size 432x288 with 1 Axes>"
      ]
     },
     "metadata": {
      "needs_background": "light"
     },
     "output_type": "display_data"
    },
    {
     "data": {
      "image/png": "[encoded data removed]",
      "text/plain": [
       "<Figure size 432x288 with 1 Axes>"
      ]
     },
     "metadata": {
      "needs_background": "light"
     },
     "output_type": "display_data"
    },
    {
     "data": {
      "image/png": "[encoded data removed]",
      "text/plain": [
       "<Figure size 432x288 with 1 Axes>"
      ]
     },
     "metadata": {
      "needs_background": "light"
     },
     "output_type": "display_data"
    },
    {
     "data": {
      "image/png": "[encoded data removed]",
      "text/plain": [
       "<Figure size 432x288 with 1 Axes>"
      ]
     },
     "metadata": {
      "needs_background": "light"
     },
     "output_type": "display_data"
    },
    {
     "data": {
      "image/png": "[encoded data removed]",
      "text/plain": [
       "<Figure size 432x288 with 1 Axes>"
      ]
     },
     "metadata": {
      "needs_background": "light"
     },
     "output_type": "display_data"
    },
    {
     "data": {
      "image/png": "[encoded data removed]",
      "text/plain": [
       "<Figure size 432x288 with 1 Axes>"
      ]
     },
     "metadata": {
      "needs_background": "light"
     },
     "output_type": "display_data"
    },
    {
     "data": {
      "image/png": "[encoded data removed]",
      "text/plain": [
       "<Figure size 432x288 with 1 Axes>"
      ]
     },
     "metadata": {
      "needs_background": "light"
     },
     "output_type": "display_data"
    },
    {
     "data": {
      "image/png": "[encoded data removed]",
      "text/plain": [
       "<Figure size 432x288 with 1 Axes>"
      ]
     },
     "metadata": {
      "needs_background": "light"
     },
     "output_type": "display_data"
    },
    {
     "data": {
      "image/png": "[encoded data removed]",
      "text/plain": [
       "<Figure size 432x288 with 1 Axes>"
      ]
     },
     "metadata": {
      "needs_background": "light"
     },
     "output_type": "display_data"
    }
   ],
   "source": [
    "# plotting for the attitudinal fatcors\n",
    "attitudinal = ['h1n1_concern', 'h1n1_knowledge', 'behavioral_antiviral_meds',\n",
    "               'behavioral_avoidance', 'behavioral_face_mask', 'behavioral_wash_hands',\n",
    "               'behavioral_large_gatherings', 'behavioral_outside_home',\n",
    "               'behavioral_touch_face', 'doctor_recc_h1n1', 'opinion_h1n1_vacc_effective',\n",
    "               'opinion_h1n1_risk','opinion_h1n1_sick_from_vacc']\n",
    "target = 'h1n1_vaccine'\n",
    "for col in attitudinal:\n",
    "  crosstab = pd.crosstab(df[col], df[target])\n",
    "  crosstab.plot(kind='bar', stacked=True, colormap='viridis')\n",
    "  plt.title(col)\n",
    "  plt.show()"
   ]
  },
  {
   "cell_type": "markdown",
   "metadata": {
    "id": "xzqVBXtSw2_c"
   },
   "source": [
    "Attitudinal Factors and Vaccine Uptake\n",
    "\n",
    "- Perceived Risk: Individuals who perceive a higher risk of H1N1 infection are more likely to get vaccinated.\n",
    "- Knowledge: Individuals with higher levels of knowledge about H1N1 are more likely to get vaccinated.\n",
    "- Behavioral Intentions: Individuals who intend to engage in preventive behaviors, such as using antiviral medications, wearing masks, or washing hands, are more likely to get vaccinated.\n",
    "- opinions: Perceived vaccine effectiveness and perceived risk of infection are positively associated with H1N1 vaccine uptake.\n",
    "- doctors recommendation: Individuals are more likely to take the vaccine if reccomended by a doctor"
   ]
  },
  {
   "cell_type": "markdown",
   "metadata": {
    "id": "19WKam_8lfUG"
   },
   "source": [
    "### MODELING\n",
    "We will start by checking the distribution of the target variable.\n",
    "The model we will use is the Logistic regression model since the target variable is in binary form\n",
    "Then we will create a baseline model of the attitudinal fatcors and how they affect vaccine uptake. We will look at their metrics, then improve from there."
   ]
  },
  {
   "cell_type": "code",
   "execution_count": 23,
   "metadata": {
    "colab": {
     "base_uri": "https://localhost:8080/",
     "height": 178
    },
    "id": "WUW7CQ9gDcgV",
    "outputId": "e43d174b-e890-4ece-aa42-2cff78dde60e"
   },
   "outputs": [
    {
     "data": {
      "text/plain": [
       "h1n1_vaccine\n",
       "0    15128\n",
       "1     4514\n",
       "Name: count, dtype: int64"
      ]
     },
     "execution_count": 23,
     "metadata": {},
     "output_type": "execute_result"
    }
   ],
   "source": [
    "# checking for distribution in the target variable\n",
    "df['h1n1_vaccine'].value_counts()"
   ]
  },
  {
   "cell_type": "markdown",
   "metadata": {
    "id": "2V4qtPcV1t6O"
   },
   "source": [
    "The target variable has class imbalance. We will use SMOTE to oversample the smaller class before creating the baseline model."
   ]
  },
  {
   "cell_type": "code",
   "execution_count": 24,
   "metadata": {
    "id": "Y66a5COT2BoL"
   },
   "outputs": [],
   "source": [
    "# defining a function to do the logistic regression\n",
    "# importing the relevant libraries\n",
    "from sklearn.model_selection import train_test_split\n",
    "from sklearn.linear_model import LogisticRegression\n",
    "from sklearn.preprocessing import StandardScaler\n",
    "from imblearn.over_sampling import SMOTE\n",
    "from sklearn.metrics import confusion_matrix\n",
    "from sklearn.metrics import accuracy_score, precision_score, recall_score, f1_score, roc_curve, auc\n",
    "# Define the variables\n",
    "X = None\n",
    "y = None\n",
    "# creating a Logistic regresson model function\n",
    "def model(X_train, X_test, y_train, y_test, logreg=None):\n",
    "  # Scale the data\n",
    "  scaler = StandardScaler(with_mean=False)\n",
    "  X_train = scaler.fit_transform(X_train)\n",
    "  X_test = scaler.transform(X_test)\n",
    "  # use SMOTE to oversample the smaller class\n",
    "  smote = SMOTE()\n",
    "  X_train_resampled, y_train_resampled = smote.fit_resample(X_train, y_train)\n",
    "  # Instantiate the model\n",
    "  logreg = LogisticRegression()\n",
    "  # create a model\n",
    "  logreg.fit(X_train_resampled, y_train_resampled)\n",
    "  # make predictions\n",
    "  y_pred = logreg.predict(X_test)\n",
    "  # check the metrics\n",
    "  print('Accuracy:', accuracy_score(y_test, y_pred))\n",
    "  print('Precision:', precision_score(y_test, y_pred))\n",
    "  print('Recall:', recall_score(y_test, y_pred))\n",
    "  print('F1 Score:', f1_score(y_test, y_pred))\n",
    "  y_score = logreg.fit(X_train, y_train).decision_function(X_test)\n",
    "  fpr, tpr, thresholds = roc_curve(y_test, y_score)\n",
    "  print('AUC: {}'.format(auc(fpr, tpr)))\n",
    "  cm = confusion_matrix(y_test, y_pred)\n",
    "  print('Confusion Matrix:\\n', cm)\n",
    "  return cm, fpr,tpr"
   ]
  },
  {
   "cell_type": "code",
   "execution_count": 25,
   "metadata": {
    "colab": {
     "base_uri": "https://localhost:8080/"
    },
    "id": "wgsNd5mnAdEv",
    "outputId": "2b937d57-f9a4-4b61-b4b2-5d682de41edf"
   },
   "outputs": [
    {
     "name": "stdout",
     "output_type": "stream",
     "text": [
      "Accuracy: 0.7590361445783133\n",
      "Precision: 0.47981604496678587\n",
      "Recall: 0.7002237136465325\n",
      "F1 Score: 0.5694360218314131\n",
      "AUC: 0.8092072843889289\n",
      "Confusion Matrix:\n",
      " [[3534 1018]\n",
      " [ 402  939]]\n"
     ]
    }
   ],
   "source": [
    "# creating the baseline model\n",
    "X_baseline = df[attitudinal]\n",
    "y = df['h1n1_vaccine']\n",
    "# create the test and train data\n",
    "X_baseline_train, X_baseline_test, y_train, y_test = train_test_split(X_baseline, y, test_size=0.3, random_state=42)\n",
    "# call the model function\n",
    "cm_baseline, fpr_baseline,tpr_baseline = model(X_baseline_train, X_baseline_test, y_train, y_test)"
   ]
  },
  {
   "cell_type": "markdown",
   "metadata": {
    "id": "gGffWjxsRCld"
   },
   "source": [
    "- Accuracy (0.76): The model correctly predicts 76.15% of all cases\n",
    "- Precision (0.48): Of all the cases the model predicted as vaccinated, only 48.4% were correct.\n",
    "- Recall (0.70): The model correctly identifies 70.4% of those who are actually vaccinated.\n",
    "- F1 Score (0.57): This metric balances precision and recall, with a score of 57.3%.\n",
    "- **AUC Score (0.81)**: The model's ability to distinguish between classes (vaccinated vs. not vaccinated) is 80.9%, which is reasonably good.\n",
    "\n",
    "We have created the baseline model, whose metrics are good. We can go ahead and create another model having only the numeric columns, since most of the attitudinal data is in numeric form."
   ]
  },
  {
   "cell_type": "code",
   "execution_count": 26,
   "metadata": {
    "colab": {
     "base_uri": "https://localhost:8080/"
    },
    "id": "nS7n40TjDQ6l",
    "outputId": "e1087e65-98f2-4442-8c47-04ce053a0222"
   },
   "outputs": [
    {
     "name": "stdout",
     "output_type": "stream",
     "text": [
      "Accuracy: 0.801119972849143\n",
      "Precision: 0.5435342606903658\n",
      "Recall: 0.7867263236390754\n",
      "F1 Score: 0.6429006703229737\n",
      "AUC: 0.8641341777311217\n",
      "Confusion Matrix:\n",
      " [[3666  886]\n",
      " [ 286 1055]]\n"
     ]
    }
   ],
   "source": [
    "# creating model 2\n",
    "numeric_cols = df.columns[df.dtypes != \"object\"].values\n",
    "X_numeric = df[numeric_cols].drop('h1n1_vaccine', axis=1)\n",
    "y = df['h1n1_vaccine']\n",
    "# create the test and train data\n",
    "X_numeric_train, X_numeric_test, y_train, y_test = train_test_split(X_numeric, y, test_size=0.3, random_state=42)\n",
    "# call the model function\n",
    "cm_numeric, fpr_numeric, tpr_numeric = model(X_numeric_train, X_numeric_test, y_train, y_test)"
   ]
  },
  {
   "cell_type": "markdown",
   "metadata": {
    "id": "JeqM9zk8SsFr"
   },
   "source": [
    "- Accuracy: the model is correct 80.04% of the time.\n",
    "- Precision: when the model predicts a positive class, it's correct 54.25% of the time.\n",
    "- Recall (Sensitivity): the model correctly identifies 78.52% of the actual positive cases.\n",
    "- F1-Score: the F1-score is 0.6416, indicating a moderate balance between precision and recall.\n",
    "- **AUC Score:** the AUC score is 0.864, which is a really good score to distinguish between the two groups\n",
    "\n",
    "Our metric of choice has improved significantly well.\n",
    "We can create a third model, which has all the columns in the dataframe."
   ]
  },
  {
   "cell_type": "code",
   "execution_count": 27,
   "metadata": {
    "colab": {
     "base_uri": "https://localhost:8080/"
    },
    "id": "Ughg_Cf1ES7g",
    "outputId": "775df75e-6df9-4cad-89ac-4e01167c10b0"
   },
   "outputs": [
    {
     "name": "stdout",
     "output_type": "stream",
     "text": [
      "Accuracy: 0.7972170371627354\n",
      "Precision: 0.5376288659793814\n",
      "Recall: 0.7777777777777778\n",
      "F1 Score: 0.6357817738494361\n",
      "AUC: 0.8647041921080326\n",
      "Confusion Matrix:\n",
      " [[3655  897]\n",
      " [ 298 1043]]\n"
     ]
    }
   ],
   "source": [
    "# model 3 for all columns\n",
    "categorical_cols = df.columns[df.dtypes == \"object\"].values\n",
    "df_dummies = pd.get_dummies(df[categorical_cols], dtype=int, drop_first=True)\n",
    "X_dummies = pd.concat([df[numeric_cols].drop('h1n1_vaccine', axis=1), df_dummies], axis=1)\n",
    "y = df['h1n1_vaccine']\n",
    "# create the train and test data\n",
    "X_dummies_train,X_dummies_test, y_train, y_test = train_test_split(X_dummies, y, test_size=0.3, random_state=42)\n",
    "# call the model function\n",
    "cm_dummies, fpr_dummies, tpr_dummies = model(X_dummies_train, X_dummies_test, y_train, y_test)"
   ]
  },
  {
   "cell_type": "markdown",
   "metadata": {
    "id": "Kmi8--lMTyCF"
   },
   "source": [
    "- Accuracy: the model is correct 79.84% of the time.\n",
    "- Precision: This measures the proportion of positive predictions that are actually positive. In this case, when the model predicts a positive class, it's correct 53.96% of the time.\n",
    "- Recall (Sensitivity): the model correctly identifies 77.55% of the actual positive cases.\n",
    "- F1-Score: the F1-score is 0.6364, indicating a moderate balance between precision and recall.\n",
    "- **AUC Score:** the ROC AUC score is 0.8647, which is a decent score.\n",
    "\n",
    "The model #2 is still the best of the 3. We can do a decision tree clasifier using numeric variables to see the difference."
   ]
  },
  {
   "cell_type": "code",
   "execution_count": 28,
   "metadata": {},
   "outputs": [
    {
     "name": "stdout",
     "output_type": "stream",
     "text": [
      "Accuracy: 0.7542847446122518\n",
      "Precision: 0.47650417215634605\n",
      "Recall: 0.8090976882923192\n",
      "F1 Score: 0.599778883360973\n",
      "AUC: 0.8344102910898538\n",
      "Confusion Matrix:\n",
      " [[3360 1192]\n",
      " [ 256 1085]]\n"
     ]
    }
   ],
   "source": [
    "# creating a decision tree classifier for comparison\n",
    "from sklearn.tree import DecisionTreeClassifier\n",
    "X_tree = X_numeric\n",
    "y = df['h1n1_vaccine']\n",
    "# instantiate the model\n",
    "tree = DecisionTreeClassifier(max_depth=3, random_state=42)\n",
    "# split the data to train and test\n",
    "X_tree_train, X_tree_test, y_train, y_test = train_test_split(X_tree, y, test_size=0.3, random_state=42)\n",
    "# use SMOTE to oversample the smaller class\n",
    "smote = SMOTE()\n",
    "X_train_resampled, y_train_resampled = smote.fit_resample(X_tree_train, y_train)\n",
    "# create the model\n",
    "tree.fit(X_train_resampled, y_train_resampled)\n",
    "# make predictions\n",
    "y_pred = tree.predict(X_tree_test)\n",
    "# get the metrics\n",
    "print('Accuracy:', accuracy_score(y_test, y_pred))\n",
    "print('Precision:', precision_score(y_test, y_pred))\n",
    "print('Recall:', recall_score(y_test, y_pred))\n",
    "print('F1 Score:', f1_score(y_test, y_pred))\n",
    "y_score = tree.fit(X_tree_train, y_train).predict_proba(X_tree_test)\n",
    "fpr, tpr, thresholds = roc_curve(y_test, y_score[:, 1])\n",
    "print('AUC: {}'.format(auc(fpr, tpr)))\n",
    "cm = confusion_matrix(y_test, y_pred)\n",
    "print('Confusion Matrix:\\n', cm)"
   ]
  },
  {
   "cell_type": "markdown",
   "metadata": {},
   "source": [
    "The decision tree classifier does not work well for our metrics of choice(AUC score). We will just go ahead with the logistic regression model and do hyperparemeter tuning"
   ]
  },
  {
   "cell_type": "code",
   "execution_count": 29,
   "metadata": {
    "colab": {
     "base_uri": "https://localhost:8080/"
    },
    "id": "lXU0k6bb706F",
    "outputId": "de77452a-e373-469b-9a73-81c4a1508d00"
   },
   "outputs": [
    {
     "name": "stdout",
     "output_type": "stream",
     "text": [
      "Best parameters:  {'C': 1, 'penalty': 'l2', 'solver': 'liblinear'}\n"
     ]
    }
   ],
   "source": [
    "# doing hyperparameter tuning\n",
    "from sklearn.model_selection import GridSearchCV\n",
    "param_grid = {'C': [0.001, 0.01, 0.1, 1, 10, 100, 1000], 'penalty': ['l1', 'l2'], 'solver': ['liblinear']}\n",
    "grid_search = GridSearchCV(LogisticRegression(), param_grid, cv=5)\n",
    "grid_search.fit(X_numeric, y)\n",
    "print(\"Best parameters: \", grid_search.best_params_)"
   ]
  },
  {
   "cell_type": "markdown",
   "metadata": {
    "id": "VKkEi17QUieI"
   },
   "source": [
    "We have obtained the best parameters for the logistic regression model. We will now do feature selection to gat the best variables and redo the model."
   ]
  },
  {
   "cell_type": "code",
   "execution_count": 30,
   "metadata": {
    "colab": {
     "base_uri": "https://localhost:8080/"
    },
    "id": "b6nBGcgHZ09V",
    "outputId": "ab5e8d46-114c-4674-fc3b-66e9742a8358"
   },
   "outputs": [
    {
     "name": "stdout",
     "output_type": "stream",
     "text": [
      "Accuracy: 0.8028169014084507\n",
      "Precision: 0.5548743102391172\n",
      "Recall: 0.6748695003728561\n",
      "F1 Score: 0.6090174966352626\n",
      "AUC: 0.8378361110783469\n",
      "Confusion Matrix:\n",
      " [[3826  726]\n",
      " [ 436  905]]\n"
     ]
    }
   ],
   "source": [
    "from sklearn.feature_selection import SelectKBest, mutual_info_classif\n",
    "\n",
    "# Doing feature selection\n",
    "selector = SelectKBest(mutual_info_classif, k=3)\n",
    "X_best_train = selector.fit_transform(X_numeric_train, y_train)\n",
    "X_best_test = selector.transform(X_numeric_test)\n",
    "cm_best, fpr_best, tpr_best = model(X_best_train, X_best_test, y_train, y_test)\n"
   ]
  },
  {
   "cell_type": "markdown",
   "metadata": {
    "id": "vIHVm3quXD3i"
   },
   "source": [
    "Looking at the metrics this time, the model has increased precision slightly while lowering recall by a lot. Our metic of choice, the AUC score has been signifu=icantly reduced. Model #2 is still the best."
   ]
  },
  {
   "cell_type": "code",
   "execution_count": 31,
   "metadata": {
    "colab": {
     "base_uri": "https://localhost:8080/"
    },
    "id": "gz6ZtbBLOP9L",
    "outputId": "8e983d8f-8304-4432-97bc-2a99ce05efd2"
   },
   "outputs": [
    {
     "name": "stdout",
     "output_type": "stream",
     "text": [
      "Accuracy: 0.8012896657050738\n",
      "Precision: 0.5436793422404933\n",
      "Recall: 0.7889634601043997\n",
      "F1 Score: 0.6437480985701246\n",
      "AUC: 0.8641341777311217\n",
      "Confusion Matrix:\n",
      " [[3664  888]\n",
      " [ 283 1058]]\n"
     ]
    }
   ],
   "source": [
    "# recreating model 2 with new parameters\n",
    "X_numeric = df[numeric_cols].drop('h1n1_vaccine', axis=1)\n",
    "y = df['h1n1_vaccine']\n",
    "regressor = LogisticRegression(C=1, penalty='l2', solver='liblinear')\n",
    "cm_new, fpr_new,tpr_new = model(X_numeric_train, X_numeric_test, y_train, y_test, regressor)"
   ]
  },
  {
   "cell_type": "markdown",
   "metadata": {
    "id": "-AoWHY63Yhbb"
   },
   "source": [
    "Looking at the metrics, not much difference from model #2. We can create ROC curves for all the models and compare"
   ]
  },
  {
   "cell_type": "code",
   "execution_count": 32,
   "metadata": {
    "colab": {
     "base_uri": "https://localhost:8080/",
     "height": 795
    },
    "id": "tV1bfSOkAnQV",
    "outputId": "b369d32e-339d-4eed-ee84-0637fa493217"
   },
   "outputs": [
    {
     "data": {
      "image/png": "[encoded data removed]",
      "text/plain": [
       "<Figure size 864x648 with 1 Axes>"
      ]
     },
     "metadata": {},
     "output_type": "display_data"
    }
   ],
   "source": [
    "# creating the roc curves for the models\n",
    "# Seaborn's beautiful styling\n",
    "sns.set_style('darkgrid', {'axes.facecolor': '0.9'})\n",
    "\n",
    "plt.figure(figsize=(12, 9))\n",
    "lw=2\n",
    "#plotting for the roc curves\n",
    "plt.plot(fpr_baseline, tpr_baseline, label='Baseline Model (AUC = %0.2f)' % auc(fpr_baseline, tpr_baseline))\n",
    "plt.plot(fpr_numeric, tpr_numeric, label='Model 2 (AUC = %0.2f)' % auc(fpr_numeric, tpr_numeric))\n",
    "plt.plot(fpr_dummies, tpr_dummies, label='Model 3 (AUC = %0.2f)' % auc(fpr_dummies, tpr_dummies))\n",
    "plt.plot(fpr_best, tpr_best, label='Best Model (AUC = %0.2f)' % auc(fpr_best, tpr_best))\n",
    "plt.plot(fpr_new, tpr_new, label='New Model (AUC = %0.2f)' % auc(fpr_new, tpr_new))\n",
    "plt.plot([0, 1], [0, 1], color='navy', lw=lw, linestyle='--')\n",
    "plt.xlim([0.0, 1.0])\n",
    "plt.ylim([0.0, 1.05])\n",
    "plt.xlabel('False Positive Rate')\n",
    "plt.ylabel('True Positive Rate')\n",
    "plt.title('Receiver operating characteristic (ROC) Curve')\n",
    "plt.legend()\n",
    "plt.show()"
   ]
  },
  {
   "cell_type": "markdown",
   "metadata": {
    "id": "o7mxmTgmEBel"
   },
   "source": [
    "From the graph, it can be seen that the model #2 and #3 have the best ROC curves. We can now look at the columns contained in model 2 which will give us the best predictors for vaccine uptake.\n",
    "\n",
    "Considering that our metrics of choice were Recall and AUC, the target was almost achieved."
   ]
  },
  {
   "cell_type": "code",
   "execution_count": 33,
   "metadata": {
    "colab": {
     "base_uri": "https://localhost:8080/"
    },
    "id": "R0bHLFDiaQws",
    "outputId": "c639c50a-c785-413a-ef0f-e12b8065ed92"
   },
   "outputs": [
    {
     "name": "stdout",
     "output_type": "stream",
     "text": [
      "Index(['h1n1_concern', 'h1n1_knowledge', 'behavioral_antiviral_meds',\n",
      "       'behavioral_avoidance', 'behavioral_face_mask', 'behavioral_wash_hands',\n",
      "       'behavioral_large_gatherings', 'behavioral_outside_home',\n",
      "       'behavioral_touch_face', 'doctor_recc_h1n1', 'doctor_recc_seasonal',\n",
      "       'chronic_med_condition', 'child_under_6_months', 'health_worker',\n",
      "       'health_insurance', 'opinion_h1n1_vacc_effective', 'opinion_h1n1_risk',\n",
      "       'opinion_h1n1_sick_from_vacc', 'opinion_seas_vacc_effective',\n",
      "       'opinion_seas_risk', 'opinion_seas_sick_from_vacc', 'household_adults',\n",
      "       'household_children', 'seasonal_vaccine'],\n",
      "      dtype='object')\n"
     ]
    }
   ],
   "source": [
    "# look at the features in model 2\n",
    "print(X_numeric.columns)"
   ]
  },
  {
   "cell_type": "markdown",
   "metadata": {
    "id": "rEl1qJgZdN4f"
   },
   "source": [
    "## CONCLUSION\n",
    "\n",
    "The model #2 demonstrates strong performance in predicting H1N1 vaccine uptake, particularly considering the complexity of human behavior and the numerous factors influencing vaccination decisions.\n",
    "\n",
    "From the given features, we can identify several key factors that significantly impact vaccine uptake:\n",
    "\n",
    "- Attitudinal Factors:\n",
    "\n",
    "Individuals with higher perceived risk of H1N1 infection are more likely to get vaccinated.\n",
    "\n",
    "Belief in the effectiveness of the vaccine is a strong predictor of vaccination behavior.\n",
    "\n",
    "Concerns about side effects can negatively impact vaccine uptake.\n",
    "- Behavioral Intentions:\n",
    "\n",
    "Individuals who intend to engage in preventive behaviors (e.g., wearing masks, washing hands) are more likely to get vaccinated.\n",
    "- Social and Demographic Factors:\n",
    "\n",
    "Household size and the presence of children may influence vaccination decisions.\n",
    "- Healthcare Access:\n",
    "\n",
    "Access to healthcare providers and insurance coverage can impact vaccine uptake.\n",
    "- Improving the Model:\n",
    "\n",
    "While the model performs well, there are opportunities for further improvement.\n",
    "\n",
    "While the current AUC is good, there are always opportunities for improvement:\n",
    "\n",
    "1. Feature Engineering:\n",
    "Create new features by combining or transforming existing ones.\n",
    "Consider incorporating external data sources (e.g., socio-economic indicators, climate data) if relevant.\n",
    "2. Model Selection:\n",
    "Consider alternative models like Random Forest, XGBoost, or LightGBM, which often perform well on complex datasets.\n",
    "Use ensemble methods to combine multiple models and improve overall performance.\n",
    "3. Data Quality and Quantity:\n",
    "Gather more data to improve the model's generalization ability.\n",
    "\n",
    "By continuously evaluating and refining the model, we can strive to improve its performance and gain deeper insights into the factors influencing H1N1 vaccine uptake."
   ]
  },
  {
   "cell_type": "markdown",
   "metadata": {
    "id": "459zdxdmdhfh"
   },
   "source": [
    "## RECOMMENDATIONS\n",
    "Based on the analysis of the H1N1 vaccine uptake model, the following recommendations can be made to the public health ministry:\n",
    "\n",
    "1. Targeted Public Health Campaigns\n",
    "2. Improve Access to Vaccination\n",
    "3. Address Vaccine Hesitancy\n",
    "4. Utilize Data-Driven Insights\n",
    "\n",
    "By implementing these recommendations, the public health ministry can effectively increase H1N1 vaccine uptake, protect public health, and mitigate the impact of future outbreaks."
   ]
  },
  {
   "cell_type": "code",
   "execution_count": null,
   "metadata": {},
   "outputs": [],
   "source": []
  }
 ],
 "metadata": {
  "colab": {
   "provenance": []
  },
  "kernelspec": {
   "display_name": "Python 3",
   "language": "python",
   "name": "python3"
  },
  "language_info": {
   "codemirror_mode": {
    "name": "ipython",
    "version": 3
   },
   "file_extension": ".py",
   "mimetype": "text/x-python",
   "name": "python",
   "nbconvert_exporter": "python",
   "pygments_lexer": "ipython3",
   "version": "3.8.5"
  }
 },
 "nbformat": 4,
 "nbformat_minor": 1
}
